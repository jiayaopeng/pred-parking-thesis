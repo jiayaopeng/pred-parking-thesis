{
 "cells": [
  {
   "cell_type": "code",
   "execution_count": null,
   "id": "656a28d5",
   "metadata": {},
   "outputs": [],
   "source": [
    "!pip install category_encoders\n",
    "!pip install geopandas\n",
    "!pip install folium\n",
    "!pip install geopy\n",
    "!pip install catboost"
   ]
  },
  {
   "cell_type": "code",
   "execution_count": null,
   "id": "60848d3a",
   "metadata": {},
   "outputs": [],
   "source": [
    "import pandas as pd\n",
    "import geopy\n",
    "import boto3\n",
    "import io\n",
    "import importlib\n",
    "import matplotlib.pyplot as plt\n",
    "import geopandas\n",
    "from shapely import wkt\n",
    "from sklearn.preprocessing import StandardScaler\n",
    "\n",
    "import location_similarity_helper as lsh\n",
    "import location_similarity_plots as lsp\n",
    "import location_similarity_cluster as lsc\n",
    "import location_similarity_train_evaluate as lste\n",
    "import baseline_helper as bh\n",
    "import baseline_models as bm\n",
    "import baseline_plots as bp\n",
    "import baseline_data_helper as bdh\n",
    "\n",
    "importlib.reload(lsh)\n",
    "importlib.reload(lsp)\n",
    "importlib.reload(lsc)\n",
    "importlib.reload(lste)\n",
    "importlib.reload(bm)\n",
    "importlib.reload(bp)\n",
    "importlib.reload(bdh)\n",
    "importlib.reload(bh)\n",
    "\n",
    "pd.set_option('display.max_column', 500)"
   ]
  },
  {
   "cell_type": "code",
   "execution_count": null,
   "id": "9131d11c",
   "metadata": {},
   "outputs": [],
   "source": [
    "client= boto3.client('s3')\n",
    "csv_obj = client.get_object(Bucket='bucket-vwfs-pred-park-global-model-serving-dev', Key=\"input/open_data/seattle/different_radius_6_radius_data_with_holiday.csv\")\n",
    "body = csv_obj['Body']\n",
    "csv_string = body.read().decode('utf-8')\n",
    "different_radius_data_with_holiday_raw= pd.read_csv(io.StringIO(csv_string), index_col=0)\n",
    "# different_radius_data_with_holiday = pd.read_csv(\"different_radius_6_radius_data_with_holiday.csv\", index_col=0)"
   ]
  },
  {
   "cell_type": "code",
   "execution_count": null,
   "id": "e3d6173a",
   "metadata": {},
   "outputs": [],
   "source": [
    "different_radius_data_with_holiday_raw = lsh.fix_maxspeed(different_radius_data_with_holiday_raw)\n",
    "assert len(different_radius_data_with_holiday_raw[\n",
    "               different_radius_data_with_holiday_raw['maxspeed'].str.contains(\"\\['\", na=False)]) == 0"
   ]
  },
  {
   "cell_type": "code",
   "execution_count": null,
   "id": "b7d06220",
   "metadata": {},
   "outputs": [],
   "source": [
    "different_radius_data_with_holiday_raw"
   ]
  },
  {
   "cell_type": "code",
   "execution_count": null,
   "id": "ad4d8a24",
   "metadata": {},
   "outputs": [],
   "source": [
    "advanced_time_feat = ['holiday','month', 'day_of_month', 'time_since_last_holiday', 'time_to_next_holiday',\n",
    "                      'time_to_next_two_day_holiday', 'time_since_last_two_day_holiday']"
   ]
  },
  {
   "cell_type": "markdown",
   "id": "8b544a35",
   "metadata": {},
   "source": [
    "As we have seen in the here_evaluation_seattle.ipynb the time features does not really bring lift to the model performance, therefore, we drop those features in our dataset to avoid high dimensionality"
   ]
  },
  {
   "cell_type": "code",
   "execution_count": null,
   "id": "59ad16cd",
   "metadata": {},
   "outputs": [],
   "source": [
    "different_radius_data_with_holiday_raw.drop(advanced_time_feat, axis=1, inplace=True)"
   ]
  },
  {
   "cell_type": "code",
   "execution_count": null,
   "id": "d8c0be06",
   "metadata": {},
   "outputs": [],
   "source": [
    "different_radius_data_with_holiday_raw"
   ]
  },
  {
   "cell_type": "code",
   "execution_count": null,
   "id": "d2a48c62",
   "metadata": {},
   "outputs": [],
   "source": [
    "train_data_with_trans = pd.read_csv('s3://bucket-vwfs-pred-park-global-model-serving-dev/input/open_data/seattle/train_data_with_trans.csv', index_col=0)"
   ]
  },
  {
   "cell_type": "code",
   "execution_count": null,
   "id": "55d57e0f",
   "metadata": {},
   "outputs": [],
   "source": [
    "different_radius_data_with_holiday = different_radius_data_with_holiday_raw.merge(\n",
    "    train_data_with_trans[['street_id', 'observation_interval_start', 'ongoing_trans']], \n",
    "    on=['street_id', 'observation_interval_start']\n",
    ")"
   ]
  },
  {
   "cell_type": "code",
   "execution_count": null,
   "id": "06999142",
   "metadata": {},
   "outputs": [],
   "source": [
    "different_radius_data_with_holiday"
   ]
  },
  {
   "cell_type": "markdown",
   "id": "9e494c3c",
   "metadata": {},
   "source": [
    "# 1. Fix the radius problem"
   ]
  },
  {
   "cell_type": "markdown",
   "id": "e1c39aa5",
   "metadata": {},
   "source": [
    "We have found that, for the here map POIs, there are cases where the poi in a certain radius is not consistent, because, smaller number of radius should have smaller no. of POI counts in a radius. Therefore, below blocks of code is designed to 1) check the inconsistency and fix the in consistency by replace the bigger radius with its closest smaller one."
   ]
  },
  {
   "cell_type": "code",
   "execution_count": null,
   "id": "62caed3d",
   "metadata": {},
   "outputs": [],
   "source": [
    "# get the problematic poi\n",
    "problematic_poi_street_ids = {}\n",
    "ls_poi_types = ['restaurant', 'shopping', 'office', 'supermarket', 'transportation', 'schools']\n",
    "for poi_type in ls_poi_types:\n",
    "    problematic_poi_street_ids[poi_type] = bdh.compare_here_poi_in_radius(poi_type,\n",
    "                                                                          different_radius_data_with_holiday)\n",
    "# a dictionary of dictionary, as below:\n",
    "# POI type:{\n",
    "# poi_type_radius 25 compare to 50: {\n",
    "#   street_id\n",
    "#   }\n",
    "# }\n",
    "problematic_poi_street_ids"
   ]
  },
  {
   "cell_type": "code",
   "execution_count": null,
   "id": "33147a32",
   "metadata": {},
   "outputs": [],
   "source": [
    "problematic_poi_street_ids_without_empty = {}\n",
    "for key, values in problematic_poi_street_ids.items():\n",
    "    if not any(values.values()):\n",
    "        print('empty!')\n",
    "    else:\n",
    "        problematic_poi_street_ids_without_empty[key] = values\n",
    "problematic_poi_street_ids_without_empty"
   ]
  },
  {
   "cell_type": "code",
   "execution_count": null,
   "id": "0bcec24a",
   "metadata": {},
   "outputs": [],
   "source": [
    "# get the list of street_ids from office_problematic_poi\n",
    "dict_ls_street_id = bdh.get_list_street_id(problematic_poi_street_ids_without_empty)\n",
    "# according to the list id, replace inconsistency radius count values\n",
    "different_radius_data_with_holiday = bdh.radius_count_replacement(dict_ls_street_id=dict_ls_street_id,\n",
    "                                                                  data=different_radius_data_with_holiday)\n",
    "different_radius_data_with_holiday"
   ]
  },
  {
   "cell_type": "code",
   "execution_count": null,
   "id": "11f1f4bf",
   "metadata": {},
   "outputs": [],
   "source": [
    "different_radius_data_with_holiday = different_radius_data_with_holiday.reset_index(drop=True)\n",
    "different_radius_data_with_holiday"
   ]
  },
  {
   "cell_type": "code",
   "execution_count": null,
   "id": "3debf5f0",
   "metadata": {},
   "outputs": [],
   "source": [
    "different_radius_data_with_holiday.length.max()"
   ]
  },
  {
   "cell_type": "code",
   "execution_count": null,
   "id": "c80e868d",
   "metadata": {},
   "outputs": [],
   "source": [
    "radius_25_cols = [\n",
    "    'commercial_25', 'residential_25', 'transportation_25', 'schools_25', 'eventsites_25',  # osm\n",
    "    'restaurant_here_25', 'shopping_here_25', 'office_here_25', 'supermarket_here_25',  # heremaps\n",
    "    'transportation_here_25', 'schools_here_25',\n",
    "    'num_off_street_parking_25', 'off_street_capa_25']  # here_off parking\n",
    "\n",
    "radius_50_cols = [\n",
    "    'commercial_50', 'residential_50', 'transportation_50', 'schools_50', 'eventsites_50',  # osm\n",
    "    'restaurant_here_50', 'shopping_here_50', 'office_here_50', 'supermarket_here_50',  # heremaps\n",
    "    'transportation_here_50', 'schools_here_50',\n",
    "    'num_off_street_parking_50', 'off_street_capa_50']  # here_off parking\n",
    "\n",
    "radius_100_cols = [\n",
    "    'commercial_100', 'residential_100', 'transportation_100', 'schools_100', 'eventsites_100',  # osm\n",
    "    'restaurant_here_100', 'shopping_here_100', 'office_here_100', 'supermarket_here_100',  # heremaps\n",
    "    'transportation_here_100', 'schools_here_100',\n",
    "    'num_off_street_parking_100', 'off_street_capa_100',  # here_off parking\n",
    "]\n",
    "radius_150_cols = [\n",
    "    'commercial_150', 'residential_150', 'transportation_150', 'schools_150', 'eventsites_150',  # osm\n",
    "    'restaurant_here_150', 'shopping_here_150', 'office_here_150', 'supermarket_here_150',  # heremaps\n",
    "    'transportation_here_150', 'schools_here_150',\n",
    "    'num_off_street_parking_150', 'off_street_capa_150',  # here_off parking\n",
    "]\n",
    "radius_250_cols = [\n",
    "    'commercial_250', 'residential_250', 'transportation_250', 'schools_250', 'eventsites_250',  # osm\n",
    "    'restaurant_here_250', 'shopping_here_250', 'office_here_250', 'supermarket_here_250',  # heremaps\n",
    "    'transportation_here_250', 'schools_here_250',\n",
    "    'num_off_street_parking_250', 'off_street_capa_250',  # here_off parking\n",
    "]\n",
    "radius_500_cols = [\n",
    "    'commercial_500', 'residential_500', 'transportation_500', 'schools_500', 'eventsites_500',  # osm\n",
    "    'restaurant_here_500', 'shopping_here_500', 'office_here_500', 'supermarket_here_500',  # heremaps\n",
    "    'transportation_here_500', 'schools_here_500',\n",
    "    'num_off_street_parking_500', 'off_street_capa_500',  # here_off parking\n",
    "]\n",
    "cat_features = ['highway', 'hour', 'weekday']\n",
    "other_feat = [\n",
    "    'street_id', 'observation_interval_start', 'availability', 'length', 'geometry',\n",
    "    'current_capacity',  # heremap on_street capa\n",
    "    'tempC', 'windspeedKmph', 'precipMM',  # weather\n",
    "    #'ongoing_trans' # pbp on-going transaction\n",
    "]"
   ]
  },
  {
   "cell_type": "code",
   "execution_count": null,
   "id": "fba44f9d",
   "metadata": {},
   "outputs": [],
   "source": [
    "radius_cols = radius_25_cols + radius_50_cols + radius_100_cols + radius_150_cols + radius_250_cols + radius_500_cols\n",
    "radius_cols_dict = {\n",
    "    'radius_25': radius_25_cols,\n",
    "    'radius_50': radius_50_cols,\n",
    "    'radius_100': radius_100_cols,\n",
    "    'radius_150': radius_150_cols,\n",
    "    'radius_250': radius_250_cols,\n",
    "    'radius_500': radius_500_cols,\n",
    "    'radius_all': radius_cols,\n",
    "}"
   ]
  },
  {
   "cell_type": "markdown",
   "id": "9626c9a1",
   "metadata": {},
   "source": [
    "# 2. Plot all the data points"
   ]
  },
  {
   "cell_type": "code",
   "execution_count": null,
   "id": "51a297ea",
   "metadata": {},
   "outputs": [],
   "source": [
    "df_geometry = different_radius_data_with_holiday[['street_id', 'geometry']]"
   ]
  },
  {
   "cell_type": "code",
   "execution_count": null,
   "id": "58cf19e0",
   "metadata": {},
   "outputs": [],
   "source": [
    "df_geometry"
   ]
  },
  {
   "cell_type": "code",
   "execution_count": null,
   "id": "e2379b08",
   "metadata": {},
   "outputs": [],
   "source": [
    "# prep for plotting all data\n",
    "df_geometry = df_geometry.drop_duplicates(subset=['street_id']).set_index('street_id')\n",
    "\n",
    "# get thhe centroid\n",
    "df_geometry['geometry'] = df_geometry['geometry'].apply(wkt.loads)\n",
    "gdf = geopandas.GeoDataFrame(\n",
    "    df_geometry, geometry=df_geometry['geometry'])\n",
    "gdf['line_centroid'] = gdf['geometry'].centroid\n",
    "gdf.head()\n",
    "\n",
    "df_geometry['lon'] = df_geometry.line_centroid.apply(lambda p: p.x)\n",
    "df_geometry['lat'] = df_geometry.line_centroid.apply(lambda p: p.y)\n",
    "\n",
    "df_street_coords = df_geometry[['lon', 'lat']]\n",
    "df_study_area = different_radius_data_with_holiday[['street_id', 'study_area']].drop_duplicates().set_index(\n",
    "    'street_id')\n",
    "street_coords_study_area = pd.merge(df_street_coords, df_study_area, left_index=True, right_index=True)\n",
    "\n",
    "df_study_area.study_area.unique().size"
   ]
  },
  {
   "cell_type": "code",
   "execution_count": null,
   "id": "c77c6607",
   "metadata": {},
   "outputs": [],
   "source": [
    "city = \"Seattle\"\n",
    "locator = geopy.geocoders.Nominatim(user_agent=\"MyCoder\")\n",
    "location_seattle = locator.geocode(city)\n",
    "\n",
    "location_seattle = [location_seattle.latitude, location_seattle.longitude]\n",
    "print(\"[lat, long]:\", location_seattle)\n",
    "\n",
    "street_coords_study_area['study_area'] = street_coords_study_area['study_area'].map(\n",
    "    {\n",
    "        'Pike-Pine': 0,\n",
    "        'First Hill': 1,\n",
    "        'South Lake Union': 2,\n",
    "        'Commercial Core': 3,\n",
    "        'Ballard': 4,\n",
    "        'Chinatown/ID': 5,\n",
    "        'Greenlake': 6,\n",
    "        'Pioneer Square': 7,\n",
    "        'University District': 8,\n",
    "        'Uptown': 9,\n",
    "        'Uptown Triangle': 10,\n",
    "        'Capitol Hill': 11,\n",
    "        'University District': 12,\n",
    "        '12th Ave': 13,\n",
    "        'Fremont': 14,\n",
    "        'Cherry Hill': 15,\n",
    "        'Ballard Locks': 16,\n",
    "        'Roosevelt': 17,\n",
    "        'Westlake': 18,\n",
    "        'Columbia City': 19\n",
    "    }\n",
    ")\n",
    "\n",
    "# plot the map where shows the 4 districts of Seattle, the output html is called map\n",
    "lsp.plot_cluster_folium(city='Seattle', data=street_coords_study_area, study_area='study_area',\n",
    "                        tiles='OpenStreetMap')"
   ]
  },
  {
   "cell_type": "markdown",
   "id": "ec9f9316",
   "metadata": {},
   "source": [
    "As we see from the map generated, there are multiple studies areas only have very few records, which we believe will not help a lot in training and thus we decide to later remove areas where we only have few observations and in general the data concentrated in the city center and outside of the city center it is quite sparse."
   ]
  },
  {
   "cell_type": "code",
   "execution_count": null,
   "id": "b283ac64",
   "metadata": {},
   "outputs": [],
   "source": [
    "print(\n",
    "    f'There are {different_radius_data_with_holiday.study_area.unique().size} unique areas in the seattle dataset ')"
   ]
  },
  {
   "cell_type": "code",
   "execution_count": null,
   "id": "7fc80fd7",
   "metadata": {},
   "outputs": [],
   "source": [
    "different_radius_data_with_holiday.groupby('study_area').size().sort_values(ascending=False)"
   ]
  },
  {
   "cell_type": "code",
   "execution_count": null,
   "id": "7e1bc959",
   "metadata": {},
   "outputs": [],
   "source": [
    "# below 9 areas are the areas where we have more than 300 records\n",
    "different_radius_data_with_holiday.groupby('study_area').filter(lambda x: len(x) > 250).study_area.unique()"
   ]
  },
  {
   "cell_type": "code",
   "execution_count": null,
   "id": "08590b9a",
   "metadata": {},
   "outputs": [],
   "source": [
    "# we have 4 areas are the areas where we have more than 450 records\n",
    "different_radius_data_with_holiday.groupby('study_area').filter(lambda x: len(x) > 450).study_area.unique()"
   ]
  },
  {
   "cell_type": "markdown",
   "id": "eac1e505",
   "metadata": {},
   "source": [
    "# 3. Model Training"
   ]
  },
  {
   "cell_type": "markdown",
   "id": "dd23789c",
   "metadata": {},
   "source": [
    "Here we trained model with:\n",
    "1. **all the data** where we generate a random split of train, test and valid and use 3 algorithms to train, the mathew looks good but we did not have any transfer, and it does not solve the problem of model transfer to areas with little to few ground truth.\n",
    "2. **9 areas's data** As we see in the plots, that our data is concentrated on few main areas, and there are areas with only very few sample, we decide to remove those study areas and the assumption is that they will not help much in the training due to the limit number of samples.\n",
    "4. **4 areas data in the city center** As previous iteration of experiments where we train data with only 4 areas, we hereby also wish to explore the baseline result of it."
   ]
  },
  {
   "cell_type": "code",
   "execution_count": null,
   "id": "6d451aba",
   "metadata": {},
   "outputs": [],
   "source": [
    "diff_radius_result_all = {}\n",
    "diff_radius_result_9_areas = {}\n",
    "diff_radius_result_4_areas = {}\n",
    "\n",
    "for key, ls_cols in radius_cols_dict.items():\n",
    "    # get the X, y and other aux data for later debug use\n",
    "    X_raw, y, aux = bh.select_data(col=other_feat + cat_features + ls_cols,\n",
    "                                   data=different_radius_data_with_holiday)\n",
    "\n",
    "    # as for catboost, we do not need to encode categorical, here we make a copy of the data to treat catboost differently\n",
    "    X_with_study_area_catboost = X_raw.join(aux, how='inner').drop(['geometry'], axis=1).copy()\n",
    "    # process the data\n",
    "    ## encode all the categorical features for other algorithms\n",
    "    X_without_study_area_encoded, _ = lsh.encode_categorical(\n",
    "        encoder='target_encoder',\n",
    "        col_encoded=cat_features,\n",
    "        feature=X_raw,\n",
    "        target=y\n",
    "    )\n",
    "    X_with_study_area_encoded = X_without_study_area_encoded.join(aux, how='inner').drop(['geometry'], axis=1)\n",
    "    ####################\n",
    "    ## Train all data ##\n",
    "    ############vv######\n",
    "    X_catboost = X_with_study_area_catboost.drop(['study_area'], axis=1)  # data for catboost(not encoded cat)\n",
    "    df_result_all_areas = bh.train_all_data(X=X_without_study_area_encoded, X_catboost=X_catboost, cat_feat=cat_features, y=y)\n",
    "    diff_radius_result_all[key] = df_result_all_areas\n",
    "\n",
    "    ####################\n",
    "    ## Train 9 areas ##\n",
    "    ############vv######\n",
    "    # As we see in the plots, that our data is concentrated on few main areas, and there are areas with only very few sample, we decide to remove those study areas and **the assumption is that they will not help much in the training due to the limit number of samples.**\n",
    "    df_9_areas = X_with_study_area_encoded.groupby('study_area').filter(lambda x: len(x) > 250)\n",
    "    print(df_9_areas.study_area.unique())\n",
    "    ## filter the y based on the index of the dataframe\n",
    "    y_9_areas = y.loc[df_9_areas.index]\n",
    "    # catboost X data, y is the same as none catboost\n",
    "    df_9_areas_catboost = X_with_study_area_catboost.groupby('study_area').filter(lambda x: len(x) > 250)\n",
    "    df_result_9_areas = bh.train_different_areas(X_different_areas=df_9_areas,\n",
    "                                                 X_different_areas_catboost=df_9_areas_catboost,\n",
    "                                                 cat_feat=cat_features,\n",
    "                                                 y_different_areas=y_9_areas)\n",
    "    diff_radius_result_9_areas[key] = df_result_9_areas\n",
    "\n",
    "    ########################\n",
    "    ## Train with 4 areas ##\n",
    "    ########################\n",
    "    # new data\n",
    "    df_4_areas = X_with_study_area_encoded.groupby('study_area').filter(lambda x: len(x) > 450)\n",
    "    y_4_areas = y.loc[df_4_areas.index]\n",
    "    # for catboost\n",
    "    df_4_areas_catboost = X_with_study_area_catboost.groupby('study_area').filter(lambda x: len(x) > 450)\n",
    "    df_result_4_areas = bh.train_different_areas(X_different_areas=df_4_areas,\n",
    "                                                 X_different_areas_catboost=df_4_areas_catboost,\n",
    "                                                 cat_feat=cat_features,\n",
    "                                                 y_different_areas=y_4_areas)\n",
    "    diff_radius_result_4_areas[key] = df_result_4_areas"
   ]
  },
  {
   "cell_type": "markdown",
   "id": "f00879fc",
   "metadata": {},
   "source": [
    "# 4. Results"
   ]
  },
  {
   "cell_type": "markdown",
   "id": "79cc3865",
   "metadata": {},
   "source": [
    "## 4.1 Result when training with all the data"
   ]
  },
  {
   "cell_type": "markdown",
   "id": "d8a013b4",
   "metadata": {},
   "source": [
    "Even our goal is to investigate the problem of model training in areas with little to no-ground truth label, we use the whole dataset, and split it to train, test, validate just to establish a raw baseline, where we **assume that we do not have a problem of lacking target labels in the dataset**."
   ]
  },
  {
   "cell_type": "code",
   "execution_count": null,
   "id": "0f2a960b",
   "metadata": {},
   "outputs": [],
   "source": [
    "diff_radius_result_all['radius_25']"
   ]
  },
  {
   "cell_type": "code",
   "execution_count": null,
   "id": "5d2ebc3a",
   "metadata": {},
   "outputs": [],
   "source": [
    "diff_radius_result_all['radius_50']"
   ]
  },
  {
   "cell_type": "code",
   "execution_count": null,
   "id": "126ea37b",
   "metadata": {},
   "outputs": [],
   "source": [
    "diff_radius_result_all['radius_100']"
   ]
  },
  {
   "cell_type": "code",
   "execution_count": null,
   "id": "e71705de",
   "metadata": {},
   "outputs": [],
   "source": [
    "diff_radius_result_all['radius_150']"
   ]
  },
  {
   "cell_type": "code",
   "execution_count": null,
   "id": "7c968a27",
   "metadata": {},
   "outputs": [],
   "source": [
    "diff_radius_result_all['radius_250']"
   ]
  },
  {
   "cell_type": "code",
   "execution_count": null,
   "id": "160b679b",
   "metadata": {},
   "outputs": [],
   "source": [
    "diff_radius_result_all['radius_500']"
   ]
  },
  {
   "cell_type": "code",
   "execution_count": null,
   "id": "ce6c3df5",
   "metadata": {},
   "outputs": [],
   "source": [
    "diff_radius_result_all['radius_all']"
   ]
  },
  {
   "cell_type": "markdown",
   "id": "367bf726",
   "metadata": {},
   "source": [
    "## 4.2 Result with train 9 areas"
   ]
  },
  {
   "cell_type": "markdown",
   "id": "32493835",
   "metadata": {},
   "source": [
    "As we see in the plots, that our data is concentrated on few main areas, and there are areas with only very few sample, we decide to remove those study areas and **the assumption is that they will not help much in the training due to the limit number of samples.**"
   ]
  },
  {
   "cell_type": "code",
   "execution_count": null,
   "id": "6e329920",
   "metadata": {},
   "outputs": [],
   "source": [
    "diff_radius_result_9_areas['radius_100'][['Matthews']]"
   ]
  },
  {
   "cell_type": "code",
   "execution_count": null,
   "id": "0e5b3cc0",
   "metadata": {},
   "outputs": [],
   "source": [
    "bp.area_split_mean_plot(diff_radius_result_9_areas['radius_25'][['Matthews']],\n",
    "                        \"Mean of the Metric for the 9 Area Splits\")"
   ]
  },
  {
   "cell_type": "code",
   "execution_count": null,
   "id": "7bedc970",
   "metadata": {},
   "outputs": [],
   "source": [
    "bp.area_split_mean_plot(diff_radius_result_9_areas['radius_50'][['Matthews']],\n",
    "                        \"Mean of the Metric for the 9 Area Splits\")"
   ]
  },
  {
   "cell_type": "code",
   "execution_count": null,
   "id": "4a638c15",
   "metadata": {},
   "outputs": [],
   "source": [
    "bp.area_split_mean_plot(diff_radius_result_9_areas['radius_100'][['Matthews']],\n",
    "                        \"Mean of the Metric for the 9 Area Splits\")"
   ]
  },
  {
   "cell_type": "code",
   "execution_count": null,
   "id": "9b1ee4cf",
   "metadata": {},
   "outputs": [],
   "source": [
    "bp.area_split_boxplot(diff_radius_result_9_areas['radius_100'][['Matthews']],\n",
    "                      'Box Plot of Different Metrics for 9 Area Splits of 100 radius')"
   ]
  },
  {
   "cell_type": "code",
   "execution_count": null,
   "id": "49a2f48f",
   "metadata": {},
   "outputs": [],
   "source": [
    "bp.area_split_mean_plot(diff_radius_result_9_areas['radius_150'][['Matthews']],\n",
    "                        \"Mean of the Metric for the 9 Area Splits\")"
   ]
  },
  {
   "cell_type": "code",
   "execution_count": null,
   "id": "23bddae6",
   "metadata": {},
   "outputs": [],
   "source": [
    "bp.area_split_mean_plot(diff_radius_result_9_areas['radius_250'][['Matthews']],\n",
    "                        \"Mean of the Metric for the 9 Area Splits\")"
   ]
  },
  {
   "cell_type": "code",
   "execution_count": null,
   "id": "a03c3ea1",
   "metadata": {},
   "outputs": [],
   "source": [
    "bp.area_split_mean_plot(diff_radius_result_9_areas['radius_500'][['Matthews']],\n",
    "                        \"Mean of the Metric for the 9 Area Splits\")"
   ]
  },
  {
   "cell_type": "code",
   "execution_count": null,
   "id": "b7cecad3",
   "metadata": {},
   "outputs": [],
   "source": [
    "bp.area_split_mean_plot(diff_radius_result_9_areas['radius_all'][['Matthews']],\n",
    "                        \"Mean of the Metric for the 9 Area Splits\")"
   ]
  },
  {
   "cell_type": "code",
   "execution_count": null,
   "id": "b2a69ef9",
   "metadata": {},
   "outputs": [],
   "source": [
    "diff_radius_result_9_areas['radius_all'].Matthews.loc[:, 'Catboost'].mean()"
   ]
  },
  {
   "cell_type": "code",
   "execution_count": null,
   "id": "e61e5039",
   "metadata": {},
   "outputs": [],
   "source": [
    "diff_radius_result_9_areas['radius_100'].Matthews.loc[:, 'Catboost'].mean()"
   ]
  },
  {
   "cell_type": "markdown",
   "id": "7bb0a584",
   "metadata": {},
   "source": [
    "**Conclusion:**\n",
    "\n",
    "**Catboost trained on 100 radius works the best for 9 areas, and when we tries to use all radius, it seems that it will confuse the algorithm**"
   ]
  },
  {
   "cell_type": "markdown",
   "id": "ac444632",
   "metadata": {},
   "source": [
    "## 4.2 Result with training for 4 Areas"
   ]
  },
  {
   "cell_type": "markdown",
   "id": "f3b3c0d7",
   "metadata": {},
   "source": [
    "This part we wish to tested out the direct transfer in the 4 areas which are concentrated in the city center"
   ]
  },
  {
   "cell_type": "code",
   "execution_count": null,
   "id": "fabf98c5",
   "metadata": {},
   "outputs": [],
   "source": [
    "bp.area_split_mean_plot(diff_radius_result_4_areas['radius_25'][['Matthews']],\n",
    "                        \"Mean of the Metric for the 4 Area Splits\")"
   ]
  },
  {
   "cell_type": "code",
   "execution_count": null,
   "id": "07e560aa",
   "metadata": {},
   "outputs": [],
   "source": [
    "bp.area_split_mean_plot(diff_radius_result_4_areas['radius_50'][['Matthews']],\n",
    "                        \"Mean of the Metric for the 4 Area Splits\")"
   ]
  },
  {
   "cell_type": "code",
   "execution_count": null,
   "id": "008ede13",
   "metadata": {},
   "outputs": [],
   "source": [
    "bp.area_split_mean_plot(diff_radius_result_4_areas['radius_100'][['Matthews']],\n",
    "                        \"Mean of the Metric for the 4 Area Splits\")"
   ]
  },
  {
   "cell_type": "code",
   "execution_count": null,
   "id": "610c29e5",
   "metadata": {},
   "outputs": [],
   "source": [
    "bp.area_split_mean_plot(diff_radius_result_4_areas['radius_150'][['Matthews']],\n",
    "                        \"Mean of the Metric for the 4 Area Splits\")"
   ]
  },
  {
   "cell_type": "code",
   "execution_count": null,
   "id": "9d5279e6",
   "metadata": {},
   "outputs": [],
   "source": [
    "bp.area_split_mean_plot(diff_radius_result_4_areas['radius_250'][['Matthews']],\n",
    "                        \"Mean of the Metric for the 4 Area Splits\")"
   ]
  },
  {
   "cell_type": "code",
   "execution_count": null,
   "id": "bbfc4125",
   "metadata": {},
   "outputs": [],
   "source": [
    "bp.area_split_mean_plot(diff_radius_result_4_areas['radius_500'][['Matthews']],\n",
    "                        \"Mean of the Metric for the 4 Area Splits\")"
   ]
  },
  {
   "cell_type": "code",
   "execution_count": null,
   "id": "b9a6b34f",
   "metadata": {},
   "outputs": [],
   "source": [
    "bp.area_split_mean_plot(diff_radius_result_4_areas['radius_100'][['Matthews']],\n",
    "                        \"Mean of the Metric for the 4 Area Splits\")"
   ]
  },
  {
   "cell_type": "markdown",
   "id": "58b0ce3f",
   "metadata": {},
   "source": [
    "**Conclusion:**\n",
    "\n",
    "**4 Areas in the city center does not work so well compared to model trained on 9 areas, therefore, we have determined our baseline as:**\n",
    "\n",
    "       the catboost model trained on 100 radius data and on the 9 areas split, with a Matthews of 17%"
   ]
  },
  {
   "cell_type": "markdown",
   "id": "575796d0",
   "metadata": {},
   "source": [
    "# 5. Select and Save the Data"
   ]
  },
  {
   "cell_type": "markdown",
   "id": "16543689",
   "metadata": {},
   "source": [
    "Here we select the data, and push it to s3"
   ]
  },
  {
   "cell_type": "code",
   "execution_count": null,
   "id": "2c85ae7a",
   "metadata": {},
   "outputs": [],
   "source": [
    "train_data_with_trans_100_with_transaction = different_radius_data_with_holiday.drop(\n",
    "    radius_25_cols + radius_50_cols + radius_150_cols + radius_250_cols + radius_500_cols, axis=1)"
   ]
  },
  {
   "cell_type": "code",
   "execution_count": null,
   "id": "5eba0680",
   "metadata": {},
   "outputs": [],
   "source": [
    "train_data_with_trans_100_with_transaction.head(1)"
   ]
  },
  {
   "cell_type": "code",
   "execution_count": null,
   "id": "a6e42947",
   "metadata": {},
   "outputs": [],
   "source": [
    "train_data_with_trans_100_with_transaction.to_csv('train_data_with_trans_100_with_transaction.csv')"
   ]
  },
  {
   "cell_type": "code",
   "execution_count": null,
   "id": "ed35ee55",
   "metadata": {},
   "outputs": [],
   "source": [
    "print(f'uploading file to object to s3')\n",
    "client.upload_file('train_data_with_trans_100_with_transaction.csv',\n",
    "                   'bucket-vwfs-pred-park-global-model-serving-dev',\n",
    "                   'input/open_data/seattle/train_data_with_trans_100_with_transaction.csv')\n",
    "print('file upload finished')"
   ]
  },
  {
   "cell_type": "markdown",
   "id": "7f3d1fb2",
   "metadata": {},
   "source": [
    "# 6. Feature Importance of the Best Performing Model"
   ]
  },
  {
   "cell_type": "code",
   "execution_count": null,
   "id": "d147c25e",
   "metadata": {},
   "outputs": [],
   "source": [
    "df_9_areas_catboost"
   ]
  },
  {
   "cell_type": "code",
   "execution_count": null,
   "id": "b913ade2",
   "metadata": {},
   "outputs": [],
   "source": [
    "y_9_areas"
   ]
  },
  {
   "cell_type": "code",
   "execution_count": null,
   "id": "88f05d88",
   "metadata": {},
   "outputs": [],
   "source": [
    "# train the model catboost again with 9 area splits\n",
    "df_9_areas_catboost_100 = df_9_areas_catboost.drop(radius_25_cols \n",
    "                                                   + radius_50_cols \n",
    "                                                   + radius_150_cols \n",
    "                                                   + radius_250_cols \n",
    "                                                   + radius_500_cols, \n",
    "                                                   axis=1)"
   ]
  },
  {
   "cell_type": "code",
   "execution_count": null,
   "id": "c2b62e82",
   "metadata": {},
   "outputs": [],
   "source": [
    "df_9_areas_catboost_100"
   ]
  },
  {
   "cell_type": "code",
   "execution_count": null,
   "id": "48644493",
   "metadata": {},
   "outputs": [],
   "source": [
    "# train the best model and get the feature importance for every feature for every area combo\n",
    "df_result_9_areas_100, feature_importance = bh.train_best_model(X_different_areas_catboost_100=df_9_areas_catboost_100,\n",
    "                                                                cat_feat=cat_features,\n",
    "                                                                y_different_areas_100=y_9_areas)"
   ]
  },
  {
   "cell_type": "code",
   "execution_count": null,
   "id": "64c654bb",
   "metadata": {},
   "outputs": [],
   "source": [
    "# get the feature importance and concat to a dataframe for plotting\n",
    "feature_importance = {k: v.set_index('Feature Id') for k, v in feature_importance.items()}\n",
    "df_feature_importance = pd.concat(feature_importance, axis=1).T\n",
    "# drop one index level\n",
    "df_feature_importance.index = df_feature_importance.index.droplevel(-1)"
   ]
  },
  {
   "cell_type": "code",
   "execution_count": null,
   "id": "0d344a6d",
   "metadata": {},
   "outputs": [],
   "source": [
    "df_feature_importance\n",
    "df_feature_importance.boxplot(\n",
    "    column=list(df_feature_importance.columns), \n",
    "    rot=45, \n",
    "    figsize=(20, 8)\n",
    ")\n",
    "plt.title(\"Boxplot for All Features and All Area Combinations\")"
   ]
  },
  {
   "cell_type": "markdown",
   "id": "0d4d687d",
   "metadata": {},
   "source": [
    "**Conclusion:**\n",
    "\n",
    "**As we can see the off-street-capacity of the parking facility and the number of residential building in a 100 radius seems to have the highest feature importance, the precipcion of that day has the smallest feature importance**"
   ]
  },
  {
   "cell_type": "code",
   "execution_count": null,
   "id": "8850d49b",
   "metadata": {},
   "outputs": [],
   "source": []
  }
 ],
 "metadata": {
  "kernelspec": {
   "display_name": "conda_python3",
   "language": "python",
   "name": "conda_python3"
  },
  "language_info": {
   "codemirror_mode": {
    "name": "ipython",
    "version": 3
   },
   "file_extension": ".py",
   "mimetype": "text/x-python",
   "name": "python",
   "nbconvert_exporter": "python",
   "pygments_lexer": "ipython3",
   "version": "3.6.13"
  }
 },
 "nbformat": 4,
 "nbformat_minor": 5
}
